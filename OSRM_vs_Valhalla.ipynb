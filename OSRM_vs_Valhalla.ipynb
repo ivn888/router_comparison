{
 "cells": [
  {
   "cell_type": "markdown",
   "metadata": {},
   "source": [
    "# Comparing journey times returned by Mapzen's OSRM and [Valhalla](https://mapzen.com/projects/valhalla) instances"
   ]
  },
  {
   "cell_type": "code",
   "execution_count": 1,
   "metadata": {
    "collapsed": false
   },
   "outputs": [],
   "source": [
    "import pandas as pd\n",
    "import matplotlib as mpl\n",
    "import matplotlib.pyplot as plt\n",
    "from matplotlib import style\n",
    "\n",
    "style.use('ggplot')\n",
    "%matplotlib inline\n",
    "mpl.rcParams['figure.figsize'] = (16, 12)"
   ]
  },
  {
   "cell_type": "markdown",
   "metadata": {},
   "source": [
    "Skip the next cell if you don't want font customisation"
   ]
  },
  {
   "cell_type": "code",
   "execution_count": 8,
   "metadata": {
    "collapsed": true
   },
   "outputs": [],
   "source": [
    "from matplotlib import rc\n",
    "rc('font', **{'family':'sans-serif',\n",
    "    'sans-serif':['Helvetica'],\n",
    "    'monospace': ['Inconsolata'],\n",
    "    'serif': ['Helvetica']})"
   ]
  },
  {
   "cell_type": "markdown",
   "metadata": {},
   "source": [
    "Skip the next cell if you don't have LaTeX installed"
   ]
  },
  {
   "cell_type": "code",
   "execution_count": 9,
   "metadata": {
    "collapsed": true
   },
   "outputs": [],
   "source": [
    "rc('text', **{'usetex': True})\n",
    "rc('text', **{'latex.preamble': '\\usepackage{sfmath}'})"
   ]
  },
  {
   "cell_type": "markdown",
   "metadata": {},
   "source": [
    "The journey times were retrieved by calling Mapzen's [OSRM](https://github.com/urschrei/Geopython/blob/6b504b857a736c3b011755ce44821cefdefd70bf/isochrone.ipynb) and [Valhalla](https://github.com/urschrei/Geopython/blob/master/isochrone.ipynb) instances, respectively.  \n",
    "Journeys were calculated from the approximate Bike Share network centroid, on Westminster Bridge, to each station in the network.  \n",
    "Calls to OSRM used `viaroute=bicycle`, calls to Valhalla used `{costing: bicycle}`  \n",
    "No costing options were set for Valhalla.  \n",
    "\n",
    "The journey times were retrieved from `['route_summary']['total_time']` for OSRM  \n",
    "The journey times were retrieved from `['trip']['summary']['time']` for Valhalla"
   ]
  },
  {
   "cell_type": "code",
   "execution_count": 4,
   "metadata": {
    "collapsed": false
   },
   "outputs": [],
   "source": [
    "osrm_station_data = pd.read_csv('stations_travel_time.csv', index_col=0)\n",
    "valhalla_station_data = pd.read_csv('stations_travel_time_valhalla.csv', index_col=0)"
   ]
  },
  {
   "cell_type": "markdown",
   "metadata": {},
   "source": [
    "####Journey origin is:\n",
    "\n",
    "-0.12203999999842599, 51.500829999995766 (lon, lat)  \n",
    "27054.81221603953, 25108.754540393566 (projected coordinates)  \n",
    "\n",
    "`centroid_distance` is calculated using pythagoras' theorem  \n",
    "`travel_time` is calculated in minutes (returned journey time / 60)"
   ]
  },
  {
   "cell_type": "code",
   "execution_count": 5,
   "metadata": {
    "collapsed": false
   },
   "outputs": [
    {
     "data": {
      "text/html": [
       "<div>\n",
       "<table border=\"1\" class=\"dataframe\">\n",
       "  <thead>\n",
       "    <tr style=\"text-align: right;\">\n",
       "      <th></th>\n",
       "      <th>lat</th>\n",
       "      <th>lon</th>\n",
       "      <th>name</th>\n",
       "      <th>projected_lon</th>\n",
       "      <th>projected_lat</th>\n",
       "      <th>centroid_distance</th>\n",
       "      <th>travel_time</th>\n",
       "    </tr>\n",
       "  </thead>\n",
       "  <tbody>\n",
       "    <tr>\n",
       "      <th>0</th>\n",
       "      <td>51.529163</td>\n",
       "      <td>-0.109971</td>\n",
       "      <td>River Street , Clerkenwell</td>\n",
       "      <td>27811.388447</td>\n",
       "      <td>28282.270369</td>\n",
       "      <td>2968.313250</td>\n",
       "      <td>22.293144</td>\n",
       "    </tr>\n",
       "    <tr>\n",
       "      <th>1</th>\n",
       "      <td>51.499607</td>\n",
       "      <td>-0.197574</td>\n",
       "      <td>Phillimore Gardens, Kensington</td>\n",
       "      <td>21813.727944</td>\n",
       "      <td>24840.827966</td>\n",
       "      <td>3969.751444</td>\n",
       "      <td>32.789598</td>\n",
       "    </tr>\n",
       "    <tr>\n",
       "      <th>2</th>\n",
       "      <td>51.521284</td>\n",
       "      <td>-0.084606</td>\n",
       "      <td>Christopher Street, Liverpool Street</td>\n",
       "      <td>29594.342661</td>\n",
       "      <td>27451.475186</td>\n",
       "      <td>4503.092527</td>\n",
       "      <td>23.073286</td>\n",
       "    </tr>\n",
       "    <tr>\n",
       "      <th>3</th>\n",
       "      <td>51.530059</td>\n",
       "      <td>-0.120974</td>\n",
       "      <td>St. Chad's Street, King's Cross</td>\n",
       "      <td>27045.344113</td>\n",
       "      <td>28362.269051</td>\n",
       "      <td>2336.626317</td>\n",
       "      <td>24.231678</td>\n",
       "    </tr>\n",
       "    <tr>\n",
       "      <th>4</th>\n",
       "      <td>51.493130</td>\n",
       "      <td>-0.156876</td>\n",
       "      <td>Sedding Street, Sloane Square</td>\n",
       "      <td>24657.683764</td>\n",
       "      <td>24190.679446</td>\n",
       "      <td>2899.434664</td>\n",
       "      <td>15.366430</td>\n",
       "    </tr>\n",
       "  </tbody>\n",
       "</table>\n",
       "</div>"
      ],
      "text/plain": [
       "         lat       lon                                  name  projected_lon  \\\n",
       "0  51.529163 -0.109971            River Street , Clerkenwell   27811.388447   \n",
       "1  51.499607 -0.197574        Phillimore Gardens, Kensington   21813.727944   \n",
       "2  51.521284 -0.084606  Christopher Street, Liverpool Street   29594.342661   \n",
       "3  51.530059 -0.120974       St. Chad's Street, King's Cross   27045.344113   \n",
       "4  51.493130 -0.156876         Sedding Street, Sloane Square   24657.683764   \n",
       "\n",
       "   projected_lat  centroid_distance  travel_time  \n",
       "0   28282.270369        2968.313250    22.293144  \n",
       "1   24840.827966        3969.751444    32.789598  \n",
       "2   27451.475186        4503.092527    23.073286  \n",
       "3   28362.269051        2336.626317    24.231678  \n",
       "4   24190.679446        2899.434664    15.366430  "
      ]
     },
     "execution_count": 5,
     "metadata": {},
     "output_type": "execute_result"
    }
   ],
   "source": [
    "osrm_station_data.head()"
   ]
  },
  {
   "cell_type": "markdown",
   "metadata": {},
   "source": [
    "Valhalla returned more valid journeys than OSRM, so we'll use a left join to keep only those returned by both "
   ]
  },
  {
   "cell_type": "code",
   "execution_count": 6,
   "metadata": {
    "collapsed": false
   },
   "outputs": [],
   "source": [
    "merged = pd.merge(\n",
    "    osrm_station_data,\n",
    "    valhalla_station_data[['name', 'travel_time']],\n",
    "    how='left',\n",
    "    on=['name'],\n",
    "    suffixes=['_osrm', '_valhalla']).dropna()\n",
    "\n",
    "# 0 travel time makes no sense; make it 1 minute\n",
    "merged.loc[merged['travel_time_osrm'] <= 1., 'travel_time_osrm'] = 1.\n",
    "merged['duration_difference'] = merged['travel_time_osrm'] - merged['travel_time_valhalla']\n",
    "# this could produce huge changes (e.g. 1m -> 3m, 200% change), so maybe not that useful\n",
    "merged['percentage_change'] = 100 - ((merged['travel_time_valhalla'] / merged['travel_time_osrm']) * 100)"
   ]
  },
  {
   "cell_type": "code",
   "execution_count": 7,
   "metadata": {
    "collapsed": false
   },
   "outputs": [
    {
     "data": {
      "text/html": [
       "<div>\n",
       "<table border=\"1\" class=\"dataframe\">\n",
       "  <thead>\n",
       "    <tr style=\"text-align: right;\">\n",
       "      <th></th>\n",
       "      <th>lat</th>\n",
       "      <th>lon</th>\n",
       "      <th>name</th>\n",
       "      <th>projected_lon</th>\n",
       "      <th>projected_lat</th>\n",
       "      <th>centroid_distance</th>\n",
       "      <th>travel_time_osrm</th>\n",
       "      <th>travel_time_valhalla</th>\n",
       "      <th>duration_difference</th>\n",
       "      <th>percentage_change</th>\n",
       "    </tr>\n",
       "  </thead>\n",
       "  <tbody>\n",
       "    <tr>\n",
       "      <th>0</th>\n",
       "      <td>51.529163</td>\n",
       "      <td>-0.109971</td>\n",
       "      <td>River Street , Clerkenwell</td>\n",
       "      <td>27811.388447</td>\n",
       "      <td>28282.270369</td>\n",
       "      <td>2968.313250</td>\n",
       "      <td>22.293144</td>\n",
       "      <td>17.133333</td>\n",
       "      <td>5.159811</td>\n",
       "      <td>23.145281</td>\n",
       "    </tr>\n",
       "    <tr>\n",
       "      <th>1</th>\n",
       "      <td>51.499607</td>\n",
       "      <td>-0.197574</td>\n",
       "      <td>Phillimore Gardens, Kensington</td>\n",
       "      <td>21813.727944</td>\n",
       "      <td>24840.827966</td>\n",
       "      <td>3969.751444</td>\n",
       "      <td>32.789598</td>\n",
       "      <td>17.333333</td>\n",
       "      <td>15.456265</td>\n",
       "      <td>47.137707</td>\n",
       "    </tr>\n",
       "    <tr>\n",
       "      <th>2</th>\n",
       "      <td>51.521284</td>\n",
       "      <td>-0.084606</td>\n",
       "      <td>Christopher Street, Liverpool Street</td>\n",
       "      <td>29594.342661</td>\n",
       "      <td>27451.475186</td>\n",
       "      <td>4503.092527</td>\n",
       "      <td>23.073286</td>\n",
       "      <td>19.300000</td>\n",
       "      <td>3.773286</td>\n",
       "      <td>16.353484</td>\n",
       "    </tr>\n",
       "    <tr>\n",
       "      <th>3</th>\n",
       "      <td>51.530059</td>\n",
       "      <td>-0.120974</td>\n",
       "      <td>St. Chad's Street, King's Cross</td>\n",
       "      <td>27045.344113</td>\n",
       "      <td>28362.269051</td>\n",
       "      <td>2336.626317</td>\n",
       "      <td>24.231678</td>\n",
       "      <td>16.233333</td>\n",
       "      <td>7.998345</td>\n",
       "      <td>33.007805</td>\n",
       "    </tr>\n",
       "    <tr>\n",
       "      <th>4</th>\n",
       "      <td>51.493130</td>\n",
       "      <td>-0.156876</td>\n",
       "      <td>Sedding Street, Sloane Square</td>\n",
       "      <td>24657.683764</td>\n",
       "      <td>24190.679446</td>\n",
       "      <td>2899.434664</td>\n",
       "      <td>15.366430</td>\n",
       "      <td>10.950000</td>\n",
       "      <td>4.416430</td>\n",
       "      <td>28.740769</td>\n",
       "    </tr>\n",
       "  </tbody>\n",
       "</table>\n",
       "</div>"
      ],
      "text/plain": [
       "         lat       lon                                  name  projected_lon  \\\n",
       "0  51.529163 -0.109971            River Street , Clerkenwell   27811.388447   \n",
       "1  51.499607 -0.197574        Phillimore Gardens, Kensington   21813.727944   \n",
       "2  51.521284 -0.084606  Christopher Street, Liverpool Street   29594.342661   \n",
       "3  51.530059 -0.120974       St. Chad's Street, King's Cross   27045.344113   \n",
       "4  51.493130 -0.156876         Sedding Street, Sloane Square   24657.683764   \n",
       "\n",
       "   projected_lat  centroid_distance  travel_time_osrm  travel_time_valhalla  \\\n",
       "0   28282.270369        2968.313250         22.293144             17.133333   \n",
       "1   24840.827966        3969.751444         32.789598             17.333333   \n",
       "2   27451.475186        4503.092527         23.073286             19.300000   \n",
       "3   28362.269051        2336.626317         24.231678             16.233333   \n",
       "4   24190.679446        2899.434664         15.366430             10.950000   \n",
       "\n",
       "   duration_difference  percentage_change  \n",
       "0             5.159811          23.145281  \n",
       "1            15.456265          47.137707  \n",
       "2             3.773286          16.353484  \n",
       "3             7.998345          33.007805  \n",
       "4             4.416430          28.740769  "
      ]
     },
     "execution_count": 7,
     "metadata": {},
     "output_type": "execute_result"
    }
   ],
   "source": [
    "merged.head()"
   ]
  },
  {
   "cell_type": "code",
   "execution_count": 11,
   "metadata": {
    "collapsed": false
   },
   "outputs": [
    {
     "data": {
      "text/plain": [
       "<matplotlib.figure.Figure at 0x1095ef1d0>"
      ]
     },
     "metadata": {},
     "output_type": "display_data"
    },
    {
     "data": {
      "image/png": "[encoded data removed]",
      "text/plain": [
       "<matplotlib.figure.Figure at 0x109635210>"
      ]
     },
     "metadata": {},
     "output_type": "display_data"
    }
   ],
   "source": [
    "plt.clf()\n",
    "\n",
    "ax = merged[['travel_time_osrm', 'travel_time_valhalla']].plot(\n",
    "    title='OSRM vs Valhalla London Bikeshare Travel Times, Network Centroid to %s Stations' % len(merged),\n",
    "    kind='hist',\n",
    "    legend=['foo', 'bar'],\n",
    "    bins=21,\n",
    "    alpha=0.75)\n",
    "\n",
    "ax.set_xlabel('Duration (minutes)')\n",
    "ax.set_ylabel('Number of journeys')\n",
    "ax.legend(['OSRM', 'Valhalla'])\n",
    "ax.grid(b=False)\n",
    "\n",
    "plt.savefig(\n",
    "    \"journey_time_difference.png\",\n",
    "    format=\"png\",\n",
    "    bbox_inches='tight',\n",
    "    transparent=True,\n",
    "    alpha=True, dpi=200)\n",
    "\n",
    "plt.show()"
   ]
  },
  {
   "cell_type": "markdown",
   "metadata": {},
   "source": [
    "As is obvious from the histograms, the journey times and their distribution vary radically between the two routers; Valhalla thinks you can get to any station in just over 35 minutes, with the majority taking 15–20 minutes. OSRM's journey times are far more evenly distributed, and greater in duration. The variation in duration is explained by Valhalla's default cycle speed of **25kph**, versus OSRM's **15kph**. When cycling speed and other costing options become available in the API, it'll be much easier to make more nuanced comparisons."
   ]
  },
  {
   "cell_type": "code",
   "execution_count": null,
   "metadata": {
    "collapsed": true
   },
   "outputs": [],
   "source": []
  }
 ],
 "metadata": {
  "kernelspec": {
   "display_name": "Python 2",
   "language": "python",
   "name": "python2"
  },
  "language_info": {
   "codemirror_mode": {
    "name": "ipython",
    "version": 2
   },
   "file_extension": ".py",
   "mimetype": "text/x-python",
   "name": "python",
   "nbconvert_exporter": "python",
   "pygments_lexer": "ipython2",
   "version": "2.7.10"
  }
 },
 "nbformat": 4,
 "nbformat_minor": 0
}
