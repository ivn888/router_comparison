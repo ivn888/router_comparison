{
 "cells": [
  {
   "cell_type": "markdown",
   "metadata": {},
   "source": [
    "# Comparing journey times returned by Mapzen's OSRM and [Valhalla](https://mapzen.com/projects/valhalla) instances"
   ]
  },
  {
   "cell_type": "markdown",
   "metadata": {},
   "source": [
    "If you'd like to run this analysis locally, install the packages from `requirements.txt`"
   ]
  },
  {
   "cell_type": "code",
   "execution_count": 15,
   "metadata": {
    "collapsed": false
   },
   "outputs": [],
   "source": [
    "import pandas as pd\n",
    "import numpy as np\n",
    "from sklearn.cluster import KMeans\n",
    "import matplotlib as mpl\n",
    "import matplotlib.pyplot as plt\n",
    "import json\n",
    "import requests\n",
    "\n",
    "%matplotlib inline\n",
    "mpl.rcParams['figure.figsize'] = (16, 12)"
   ]
  },
  {
   "cell_type": "markdown",
   "metadata": {},
   "source": [
    "Skip the next cell if you don't want font customisation"
   ]
  },
  {
   "cell_type": "code",
   "execution_count": 2,
   "metadata": {
    "collapsed": true
   },
   "outputs": [],
   "source": [
    "from matplotlib import rc\n",
    "rc('font', **{'family':'sans-serif',\n",
    "    'sans-serif':['Helvetica'],\n",
    "    'monospace': ['Inconsolata'],\n",
    "    'serif': ['Adobe Garamamond Pro']})"
   ]
  },
  {
   "cell_type": "markdown",
   "metadata": {},
   "source": [
    "Skip the next cell if you don't have LaTeX installed"
   ]
  },
  {
   "cell_type": "code",
   "execution_count": 3,
   "metadata": {
    "collapsed": true
   },
   "outputs": [],
   "source": [
    "rc('text', **{'usetex': True})\n",
    "rc('text', **{'latex.preamble': '\\usepackage{sfmath}'})"
   ]
  },
  {
   "cell_type": "markdown",
   "metadata": {},
   "source": [
    "The journey times were retrieved by calling Mapzen's [OSRM](https://github.com/urschrei/Geopython/blob/6b504b857a736c3b011755ce44821cefdefd70bf/isochrone.ipynb) and [Valhalla](https://github.com/urschrei/Geopython/blob/master/isochrone.ipynb) instances, respectively.  \n",
    "Journeys were calculated from the *approximate* London Bike Share network centroid, on Westminster Bridge, to each station in the network.  \n",
    "Calls to OSRM used `viaroute=bicycle`, calls to Valhalla used `{costing: bicycle}`  \n",
    "No costing options were set for Valhalla.  \n",
    "\n",
    "The journey times were retrieved from `['route_summary']['total_time']` for OSRM  \n",
    "The journey times were retrieved from `['trip']['summary']['time']` for Valhalla"
   ]
  },
  {
   "cell_type": "code",
   "execution_count": 4,
   "metadata": {
    "collapsed": false
   },
   "outputs": [
    {
     "name": "stdout",
     "output_type": "stream",
     "text": [
      "(Index([u'lat', u'lon', u'name', u'projected_lon', u'projected_lat',\n",
      "       u'centroid_distance', u'travel_time'],\n",
      "      dtype='object'), 567)\n",
      "(Index([u'lat', u'lon', u'name', u'projected_lon', u'projected_lat',\n",
      "       u'centroid_distance', u'travel_time'],\n",
      "      dtype='object'), 733)\n"
     ]
    }
   ],
   "source": [
    "osrm_station_data = pd.read_csv('stations_travel_time.csv', index_col=0)\n",
    "valhalla_station_data = pd.read_csv('stations_travel_time_valhalla.csv', index_col=0)\n",
    "\n",
    "# what do they look like, how long are they?\n",
    "print(osrm_station_data.columns, len(osrm_station_data))\n",
    "print(valhalla_station_data.columns, len(valhalla_station_data))"
   ]
  },
  {
   "cell_type": "markdown",
   "metadata": {},
   "source": [
    "####Journey origin is:\n",
    "\n",
    "-0.12203999999842599, 51.500829999995766 (lon, lat)  \n",
    "27054.81221603953, 25108.754540393566 (projected coordinates)  \n",
    "\n",
    "`centroid_distance` is calculated using pythagoras' theorem  \n",
    "`travel_time` is calculated in minutes (returned journey time / 60)"
   ]
  },
  {
   "cell_type": "markdown",
   "metadata": {},
   "source": [
    "Since Valhalla returned more valid journeys than OSRM, we'll use a left join to keep only those common to both "
   ]
  },
  {
   "cell_type": "code",
   "execution_count": 5,
   "metadata": {
    "collapsed": false
   },
   "outputs": [],
   "source": [
    "merged = pd.merge(\n",
    "    osrm_station_data,\n",
    "    valhalla_station_data[['name', 'travel_time']],\n",
    "    how='left',\n",
    "    on=['name'],\n",
    "    suffixes=['_osrm', '_valhalla']).dropna()\n",
    "\n",
    "# 0 travel time makes no sense; make it 1 minute\n",
    "merged.loc[merged['travel_time_osrm'] <= 1., 'travel_time_osrm'] = 1.\n",
    "merged['duration_difference'] = merged['travel_time_osrm'] - merged['travel_time_valhalla']\n",
    "# this could produce huge changes (e.g. 1m -> 3m, 200% change), so maybe not that useful\n",
    "merged['percentage_change'] = 100 - ((merged['travel_time_valhalla'] / merged['travel_time_osrm']) * 100)"
   ]
  },
  {
   "cell_type": "code",
   "execution_count": 6,
   "metadata": {
    "collapsed": false
   },
   "outputs": [
    {
     "data": {
      "text/html": [
       "<div>\n",
       "<table border=\"1\" class=\"dataframe\">\n",
       "  <thead>\n",
       "    <tr style=\"text-align: right;\">\n",
       "      <th></th>\n",
       "      <th>lat</th>\n",
       "      <th>lon</th>\n",
       "      <th>name</th>\n",
       "      <th>projected_lon</th>\n",
       "      <th>projected_lat</th>\n",
       "      <th>centroid_distance</th>\n",
       "      <th>travel_time_osrm</th>\n",
       "      <th>travel_time_valhalla</th>\n",
       "      <th>duration_difference</th>\n",
       "      <th>percentage_change</th>\n",
       "    </tr>\n",
       "  </thead>\n",
       "  <tbody>\n",
       "    <tr>\n",
       "      <th>0</th>\n",
       "      <td>51.529163</td>\n",
       "      <td>-0.109971</td>\n",
       "      <td>River Street , Clerkenwell</td>\n",
       "      <td>27811.388447</td>\n",
       "      <td>28282.270369</td>\n",
       "      <td>2968.313250</td>\n",
       "      <td>22.293144</td>\n",
       "      <td>17.133333</td>\n",
       "      <td>5.159811</td>\n",
       "      <td>23.145281</td>\n",
       "    </tr>\n",
       "    <tr>\n",
       "      <th>1</th>\n",
       "      <td>51.499607</td>\n",
       "      <td>-0.197574</td>\n",
       "      <td>Phillimore Gardens, Kensington</td>\n",
       "      <td>21813.727944</td>\n",
       "      <td>24840.827966</td>\n",
       "      <td>3969.751444</td>\n",
       "      <td>32.789598</td>\n",
       "      <td>17.333333</td>\n",
       "      <td>15.456265</td>\n",
       "      <td>47.137707</td>\n",
       "    </tr>\n",
       "    <tr>\n",
       "      <th>2</th>\n",
       "      <td>51.521284</td>\n",
       "      <td>-0.084606</td>\n",
       "      <td>Christopher Street, Liverpool Street</td>\n",
       "      <td>29594.342661</td>\n",
       "      <td>27451.475186</td>\n",
       "      <td>4503.092527</td>\n",
       "      <td>23.073286</td>\n",
       "      <td>19.300000</td>\n",
       "      <td>3.773286</td>\n",
       "      <td>16.353484</td>\n",
       "    </tr>\n",
       "    <tr>\n",
       "      <th>3</th>\n",
       "      <td>51.530059</td>\n",
       "      <td>-0.120974</td>\n",
       "      <td>St. Chad's Street, King's Cross</td>\n",
       "      <td>27045.344113</td>\n",
       "      <td>28362.269051</td>\n",
       "      <td>2336.626317</td>\n",
       "      <td>24.231678</td>\n",
       "      <td>16.233333</td>\n",
       "      <td>7.998345</td>\n",
       "      <td>33.007805</td>\n",
       "    </tr>\n",
       "    <tr>\n",
       "      <th>4</th>\n",
       "      <td>51.493130</td>\n",
       "      <td>-0.156876</td>\n",
       "      <td>Sedding Street, Sloane Square</td>\n",
       "      <td>24657.683764</td>\n",
       "      <td>24190.679446</td>\n",
       "      <td>2899.434664</td>\n",
       "      <td>15.366430</td>\n",
       "      <td>10.950000</td>\n",
       "      <td>4.416430</td>\n",
       "      <td>28.740769</td>\n",
       "    </tr>\n",
       "  </tbody>\n",
       "</table>\n",
       "</div>"
      ],
      "text/plain": [
       "         lat       lon                                  name  projected_lon  \\\n",
       "0  51.529163 -0.109971            River Street , Clerkenwell   27811.388447   \n",
       "1  51.499607 -0.197574        Phillimore Gardens, Kensington   21813.727944   \n",
       "2  51.521284 -0.084606  Christopher Street, Liverpool Street   29594.342661   \n",
       "3  51.530059 -0.120974       St. Chad's Street, King's Cross   27045.344113   \n",
       "4  51.493130 -0.156876         Sedding Street, Sloane Square   24657.683764   \n",
       "\n",
       "   projected_lat  centroid_distance  travel_time_osrm  travel_time_valhalla  \\\n",
       "0   28282.270369        2968.313250         22.293144             17.133333   \n",
       "1   24840.827966        3969.751444         32.789598             17.333333   \n",
       "2   27451.475186        4503.092527         23.073286             19.300000   \n",
       "3   28362.269051        2336.626317         24.231678             16.233333   \n",
       "4   24190.679446        2899.434664         15.366430             10.950000   \n",
       "\n",
       "   duration_difference  percentage_change  \n",
       "0             5.159811          23.145281  \n",
       "1            15.456265          47.137707  \n",
       "2             3.773286          16.353484  \n",
       "3             7.998345          33.007805  \n",
       "4             4.416430          28.740769  "
      ]
     },
     "execution_count": 6,
     "metadata": {},
     "output_type": "execute_result"
    }
   ],
   "source": [
    "merged.head()"
   ]
  },
  {
   "cell_type": "markdown",
   "metadata": {},
   "source": [
    "Cluster journeys using k-means++"
   ]
  },
  {
   "cell_type": "code",
   "execution_count": 7,
   "metadata": {
    "collapsed": false
   },
   "outputs": [],
   "source": [
    "kmeans_osrm = KMeans(init='k-means++', n_clusters=7, n_init=10)\n",
    "kmeans_osrm.fit(merged[['centroid_distance', 'travel_time_osrm']])\n",
    "merged['kmeans_bin_osrm'] = kmeans_osrm.labels_\n",
    "kmeans_centroids_osrm = kmeans_osrm.cluster_centers_\n",
    "\n",
    "kmeans_valhalla = KMeans(init='k-means++', n_clusters=7, n_init=10)\n",
    "kmeans_valhalla.fit(merged[['centroid_distance', 'travel_time_valhalla']])\n",
    "merged['kmeans_bin_valhalla'] = kmeans_valhalla.labels_\n",
    "kmeans_centroids_valhalla = kmeans_valhalla.cluster_centers_"
   ]
  },
  {
   "cell_type": "code",
   "execution_count": 8,
   "metadata": {
    "collapsed": false
   },
   "outputs": [
    {
     "data": {
      "text/plain": [
       "<matplotlib.figure.Figure at 0x10d8c0ad0>"
      ]
     },
     "metadata": {},
     "output_type": "display_data"
    },
    {
     "data": {
      "image/png": "[encoded data removed]",
      "text/plain": [
       "<matplotlib.figure.Figure at 0x10734b510>"
      ]
     },
     "metadata": {},
     "output_type": "display_data"
    }
   ],
   "source": [
    "# set up plots\n",
    "# numrows, numcolumns, plot number (specify in row, column order)\n",
    "dotsize = 5.\n",
    "linewidth = .5\n",
    "fontsize=8\n",
    "\n",
    "plt.clf()\n",
    "fig = plt.figure(figsize=(7.28, 7.28))\n",
    "\n",
    "# Left-hand plot\n",
    "ax = fig.add_subplot(221, axisbg='none', frame_on=False)\n",
    "hist = merged[['travel_time_osrm', 'travel_time_valhalla']].plot(\n",
    "    ax=ax,\n",
    "    kind='hist',\n",
    "    color=[\"#008080\", \"#E87600\"],\n",
    "    edgecolor='#333333',\n",
    "    bins=21,\n",
    "    alpha=0.75)\n",
    "\n",
    "plt.title(\n",
    "    \"Travel Time, Network Centroid to %s Stations\" % len(merged),\n",
    "    fontsize=8\n",
    ")\n",
    "\n",
    "ax.set_xlabel('Duration (minutes)', fontsize=fontsize)\n",
    "ax.set_ylabel('Number of journeys', fontsize=fontsize)\n",
    "leg = ax.legend(['OSRM', 'Valhalla'], fontsize=9)\n",
    "leg.get_frame().set_alpha(0.5)\n",
    "ax.grid(b=False)\n",
    "\n",
    "# Right-hand plot\n",
    "ax2 = fig.add_subplot(222, axisbg='none')\n",
    "\n",
    "osrm = plt.scatter(\n",
    "    x=merged['travel_time_osrm'],\n",
    "    y=merged['centroid_distance'],\n",
    "    marker='o',\n",
    "    color=\"#008080\",\n",
    "    edgecolor='#333333',\n",
    "    lw=linewidth,\n",
    "    s=dotsize,\n",
    "    alpha=0.65)\n",
    "\n",
    "valhalla = plt.scatter(\n",
    "    x=merged['travel_time_valhalla'],\n",
    "    y=merged['centroid_distance'],\n",
    "    marker='o',\n",
    "    color=\"#E87600\",\n",
    "    edgecolor='#333333',\n",
    "    lw=linewidth,\n",
    "    s=dotsize,\n",
    "    alpha=0.65)\n",
    "\n",
    "leg = plt.legend(\n",
    "    (osrm, valhalla),\n",
    "    ('OSRM',\n",
    "    'Valhalla'),\n",
    "    scatterpoints=3,\n",
    "    fontsize=9,\n",
    "    loc='upper left')\n",
    "leg.get_frame().set_alpha(0.5)\n",
    "\n",
    "plt.title(\n",
    "    \"Travel Time vs Distance (Origin: Network Centroid)\",\n",
    "    fontsize=8\n",
    ")\n",
    "\n",
    "ax2.set_xlabel('Duration (minutes)', fontsize=fontsize)\n",
    "ax2.set_ylabel('Distance (m)', fontsize=fontsize)\n",
    "ax2.grid(b=False)\n",
    "ax2.spines['top'].set_visible(False)\n",
    "ax2.spines['right'].set_visible(False)\n",
    "ax2.set_xlim(0, 70)\n",
    "ax2.set_ylim(0, 12000)\n",
    "\n",
    "# Bottom left-hand plot\n",
    "ax3 = fig.add_subplot(223, axisbg='none', frame_on=True)\n",
    "\n",
    "osrm_cluster = plt.scatter(\n",
    "    x=merged['travel_time_osrm'],\n",
    "    y=merged['centroid_distance'],\n",
    "    c=merged['kmeans_bin_osrm'],\n",
    "    marker='o',\n",
    "    color=\"#ff8300\",\n",
    "    cmap='Spectral',\n",
    "    edgecolor='#333333',\n",
    "    lw=linewidth,\n",
    "    s=dotsize,\n",
    "    alpha=0.85)\n",
    "\n",
    "plt.title(\n",
    "    \"Journey Clusters (OSRM)\",\n",
    "    fontsize=8\n",
    ")\n",
    "\n",
    "ax3.set_xlabel('Duration (minutes)', fontsize=fontsize)\n",
    "ax3.set_ylabel('Distance (m)', fontsize=fontsize)\n",
    "ax3.grid(b=False)\n",
    "ax3.spines['top'].set_visible(False)\n",
    "ax3.spines['right'].set_visible(False)\n",
    "ax3.set_xlim(0, 70)\n",
    "ax3.set_ylim(0, 12000)\n",
    "\n",
    "# Botom right-hand plot\n",
    "ax4 = fig.add_subplot(224, axisbg='none', frame_on=True)\n",
    "\n",
    "valhalla_cluster = plt.scatter(\n",
    "    x=merged['travel_time_valhalla'],\n",
    "    y=merged['centroid_distance'],\n",
    "    c=merged['kmeans_bin_valhalla'],\n",
    "    marker='o',\n",
    "    color=\"#ff8300\",\n",
    "    cmap='Spectral',\n",
    "    edgecolor='#333333',\n",
    "    lw=linewidth,\n",
    "    s=dotsize,\n",
    "    alpha=0.85)\n",
    "\n",
    "ax4.set_xlim(0, 70)\n",
    "ax4.set_ylim(0, 12000)\n",
    "plt.title(\n",
    "    \"Journey Clusters (Valhalla)\",\n",
    "    fontsize=8\n",
    ")\n",
    "\n",
    "ax4.set_xlabel('Duration (minutes)', fontsize=fontsize)\n",
    "# ax4.set_ylabel('Distance (m)', fontsize=fontsize)\n",
    "ax4.set_yticklabels([])\n",
    "ax4.grid(b=False)\n",
    "ax4.spines['top'].set_visible(False)\n",
    "ax4.spines['right'].set_visible(False)\n",
    "ax4.spines['left'].set_visible(False)\n",
    "\n",
    "# Save etc\n",
    "plt.tight_layout()\n",
    "plt.savefig(\n",
    "    'combined.png',\n",
    "    format=\"png\",\n",
    "    bbox_inches='tight',\n",
    "    alpha=True,\n",
    "    transparent=True,\n",
    "    dpi=300)\n",
    "\n",
    "plt.show()"
   ]
  },
  {
   "cell_type": "markdown",
   "metadata": {},
   "source": [
    "As is obvious from the histogram and plot, the journey times and their distribution vary significantly between the two routers; Valhalla thinks you can get to any station in just over 35 minutes, with the majority taking 15–20 minutes. OSRM's journey times are far more evenly distributed, and greater in duration. [Most](https://twitter.com/mapzen/status/626080158890479620) (though [not all](https://twitter.com/mapzen/status/626083924192690176)) of the variation in duration is explained by Valhalla's default cycle speed of **25kph**, versus OSRM's **15kph**. When cycling speed and other costing options become available in the API, it'll be much easier to make more nuanced comparisons."
   ]
  },
  {
   "cell_type": "code",
   "execution_count": 9,
   "metadata": {
    "collapsed": true
   },
   "outputs": [],
   "source": [
    "# # plot centroids (we aren't, currently)\n",
    "\n",
    "# plt.clf()\n",
    "# plt.figure(1)\n",
    "# plt.scatter(centroids_osrm[:, 0], centroids_osrm[:, 1],\n",
    "#             marker='x', s=169, linewidths=3,\n",
    "#             color='w', zorder=10)"
   ]
  },
  {
   "cell_type": "code",
   "execution_count": 13,
   "metadata": {
    "collapsed": true
   },
   "outputs": [],
   "source": [
    "def query_travel_time_valhalla(\n",
    "    key,\n",
    "    start,\n",
    "    end,\n",
    "    costing,\n",
    "    language=\"en_US\",\n",
    "    out_format=\"json\",\n",
    "    direction_params=None,\n",
    "    costing_params=None):\n",
    "    \"\"\"\n",
    "    Query a Valhalla instance for a route\n",
    "    Returns travel time and list of route geometries\n",
    "    \n",
    "    key: Valhalla API key\n",
    "    start: route start coords as a lon, lat iterable\n",
    "    end: route end coords as a lon, lat iterable\n",
    "\n",
    "    Not all options have been implemented here.\n",
    "    See: https://github.com/valhalla/valhalla-docs/blob/gh-pages/api-reference.md#inputs-of-a-valhalla-route\n",
    "    \"\"\"\n",
    "    allowed = ('pedestrian', 'bicycle', 'bus', 'auto', 'auto_shorter')\n",
    "    if costing not in allowed:\n",
    "        raise Exception(\n",
    "            \"Unknown travel method. Must be one of %s. Christ.\" % ', '.join(allowed))\n",
    "    \n",
    "    # build routing JSON\n",
    "    initial_route = {\n",
    "        \"locations\": [{\"lat\":start[1] ,\"lon\": start[0]}, {\"lat\":end[1] ,\"lon\":end[0]}],\n",
    "        \"costing\": costing,\n",
    "        \"language\": language,\n",
    "        \"out_format\": out_format\n",
    "    }\n",
    "    route = initial_route.copy()\n",
    "    if direction_params:\n",
    "        route.update({'directions_options': direction_params})\n",
    "    if costing_params:\n",
    "        route.update({'costing_options': costing_params})\n",
    "    endpoint = \"https://valhalla.mapzen.com/route\"\n",
    "    params = {\"json\": json.dumps(route), \"api_key\": key}\n",
    "    req = requests.get(endpoint, params=params)\n",
    "    try:\n",
    "        req.raise_for_status()\n",
    "    except requests.exceptions.HTTPError:\n",
    "        return np.nan\n",
    "    if req.json()['trip']['status'] == 207:\n",
    "        return np.nan\n",
    "#     return req.json()['trip']['summary']['time'], [leg['shape'] for leg in req.json()['trip']['legs']][0]\n",
    "    return [leg['shape'] for leg in req.json()['trip']['legs']][0]"
   ]
  },
  {
   "cell_type": "code",
   "execution_count": 12,
   "metadata": {
    "collapsed": true
   },
   "outputs": [],
   "source": [
    "def decode_polyline(point_str):\n",
    "    \"\"\"\n",
    "    Decodes a polyline that has been encoded using Google's algorithm\n",
    "    http://code.google.com/apis/maps/documentation/polylinealgorithm.html\n",
    "    \n",
    "    This is a generic method that returns a list of (lon, lat) \n",
    "    tuples, which are used as input to a Shapely LineString\n",
    "    \n",
    "    point_str: encoded polyline string\n",
    "    returns: LineString instance\n",
    "    \"\"\"\n",
    "    # some coordinate offsets are represented by 4 to 5 binary chunks\n",
    "    if pd.isnull(point_str):\n",
    "        return np.nan\n",
    "    coord_chunks = [[]]\n",
    "    for char in point_str:\n",
    "        # convert each character to decimal from ascii\n",
    "        value = ord(char) - 63\n",
    "        # values that have a chunk following have an extra 1 on the left\n",
    "        split_after = not (value & 0x20)   \n",
    "        value &= 0x1F\n",
    "        coord_chunks[-1].append(value)\n",
    "        if split_after:\n",
    "            coord_chunks.append([])\n",
    "    del coord_chunks[-1]\n",
    "    coords = []\n",
    "    for coord_chunk in coord_chunks:\n",
    "        coord = 0\n",
    "        for i, chunk in enumerate(coord_chunk):               \n",
    "            coord |= chunk << (i * 5)\n",
    "        # there is a 1 on the right if the coord is negative\n",
    "        if coord & 0x1:\n",
    "            coord = ~coord #invert\n",
    "        coord >>= 1\n",
    "        # https://github.com/Project-OSRM/osrm-backend/issues/713\n",
    "        # (OSRM returns higher-precision coordinates)\n",
    "        coord /= 1000000.\n",
    "        coords.append(coord)\n",
    "    # convert the 1d list to a 2d list & offsets to actual values\n",
    "    points = []\n",
    "    prev_x = 0\n",
    "    prev_y = 0\n",
    "    for i in xrange(0, len(coords) - 1, 2):\n",
    "        if coords[i] == 0 and coords[i + 1] == 0:\n",
    "            continue\n",
    "        prev_x += coords[i + 1]\n",
    "        prev_y += coords[i]\n",
    "        # rounding to 6 digits ensures that the floats are the same as when \n",
    "        # they were encoded\n",
    "        points.append((round(prev_x, 6), round(prev_y, 6)))\n",
    "    if len(points) > 1:\n",
    "        return LineString(points)\n",
    "    else:\n",
    "        return np.nan"
   ]
  },
  {
   "cell_type": "markdown",
   "metadata": {},
   "source": [
    "Get Valhalla routes, and dump to CSV"
   ]
  },
  {
   "cell_type": "code",
   "execution_count": 16,
   "metadata": {
    "collapsed": false
   },
   "outputs": [],
   "source": [
    "api_key = \"my api key\"\n",
    "\n",
    "def travel_time(df, start):\n",
    "    \"\"\" return travel times between a given centroid and all stations in the network \"\"\"\n",
    "    return query_travel_time_valhalla(api_key, start, (df['lon'], df['lat']), 'bicycle')\n",
    "\n",
    "merged['valhalla_route'] = merged.apply(\n",
    "    travel_time, args=((-0.12203999999842599, 51.500829999995766),), axis=1)\n",
    "\n",
    "merged[['name', 'valhalla_route']].to_csv('valhalla_routes.csv')"
   ]
  }
 ],
 "metadata": {
  "kernelspec": {
   "display_name": "Python 2",
   "language": "python",
   "name": "python2"
  },
  "language_info": {
   "codemirror_mode": {
    "name": "ipython",
    "version": 2
   },
   "file_extension": ".py",
   "mimetype": "text/x-python",
   "name": "python",
   "nbconvert_exporter": "python",
   "pygments_lexer": "ipython2",
   "version": "2.7.10"
  }
 },
 "nbformat": 4,
 "nbformat_minor": 0
}
